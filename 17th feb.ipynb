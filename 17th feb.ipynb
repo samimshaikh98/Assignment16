{
 "cells": [
  {
   "cell_type": "markdown",
   "id": "2c7c4582-81c4-4f96-8ef7-6f7fda57a8d7",
   "metadata": {},
   "source": [
    "QI. What is MongoDB? Explain non-relational databases in short. In which scenarios it is preferred to use\n",
    "MongoDB over SQL databases?\n"
   ]
  },
  {
   "cell_type": "markdown",
   "id": "d83b125a-bf94-4596-9ce3-9ee7d4029b4d",
   "metadata": {},
   "source": [
    "MongoDB is a popular open-source document-oriented NoSQL database that uses a flexible schema to store and manage data. Unlike traditional SQL databases, MongoDB is a non-relational database, which means that it doesn't use a fixed table schema with pre-defined column types. Instead, MongoDB stores data in flexible, JSON-like documents with dynamic schemas.\n",
    "\n",
    "Non-relational databases, or NoSQL databases, are databases that use non-tabular data models and do not rely on a fixed schema. They are designed to be more scalable, flexible, and faster than traditional SQL databases, making them ideal for storing large amounts of unstructured or semi-structured data, such as social media content, sensor data, and real-time data feeds.\n",
    "\n",
    "There are several scenarios where it's preferred to use MongoDB over SQL databases:\n",
    "\n",
    "    Flexible schema: MongoDB's flexible schema allows you to store data in a way that is more natural to your application, without being constrained by a rigid schema.\n",
    "\n",
    "    Scalability: MongoDB is designed to be highly scalable, making it a good choice for applications that require fast and efficient access to large amounts of data.\n",
    "\n",
    "    High availability: MongoDB supports automatic failover and replica sets, which make it easier to ensure high availability and minimize downtime.\n",
    "\n",
    "    Performance: MongoDB is designed for high performance, with features such as in-memory processing, support for indexing, and automatic sharding.\n",
    "\n",
    "    Cloud-native: MongoDB is well-suited to modern cloud-based architectures, with features such as automatic scaling, serverless functions, and cloud-native integrations.\n",
    "\n",
    "In summary, MongoDB is a popular non-relational database that provides high scalability, flexibility, and performance, making it a good choice for applications that require fast and efficient access to large amounts of data with a flexible schema."
   ]
  },
  {
   "cell_type": "markdown",
   "id": "35a35db1-8282-4703-b706-a080e8e322c9",
   "metadata": {},
   "source": [
    "Q2. State and Explain the features of MongoDB.\n"
   ]
  },
  {
   "cell_type": "markdown",
   "id": "70ae38e4-bd01-4c1c-a1d7-585ea86e2192",
   "metadata": {},
   "source": [
    "MongoDB is a popular open-source NoSQL document-oriented database that offers several features that make it a popular choice for modern applications. Here are some of the key features of MongoDB:\n",
    "\n",
    "    Document-oriented: MongoDB is a document-oriented database that stores data in JSON-like documents, allowing you to store data in a flexible, non-relational way.\n",
    "\n",
    "    Flexible schema: MongoDB's flexible schema allows you to store data in a way that is more natural to your application, without being constrained by a rigid schema.\n",
    "\n",
    "    High scalability: MongoDB is designed to be highly scalable, with support for automatic sharding, which allows you to distribute data across multiple servers to handle large amounts of data.\n",
    "\n",
    "    High availability: MongoDB supports automatic failover and replica sets, which make it easier to ensure high availability and minimize downtime.\n",
    "\n",
    "    Indexing: MongoDB supports indexing, which makes it faster to retrieve data by creating indexes on frequently used fields.\n",
    "\n",
    "    Aggregation: MongoDB provides a powerful aggregation framework that allows you to perform complex data analysis and transformation operations.\n",
    "\n",
    "    MapReduce: MongoDB supports MapReduce, which is a powerful data processing framework that allows you to process large amounts of data in parallel.\n",
    "\n",
    "    In-memory processing: MongoDB provides in-memory processing capabilities, which can improve query performance by keeping frequently accessed data in memory.\n",
    "\n",
    "    JSON and BSON support: MongoDB supports both JSON and BSON (Binary JSON) formats, which allows for efficient data storage and retrieval.\n",
    "\n",
    "    Cloud-native: MongoDB is well-suited to modern cloud-based architectures, with features such as automatic scaling, serverless functions, and cloud-native integrations.\n",
    "\n",
    "In summary, MongoDB offers a flexible, document-oriented data model, high scalability and availability, indexing and aggregation capabilities, and support for modern cloud-based architectures, making it a popular choice for modern applications."
   ]
  },
  {
   "cell_type": "markdown",
   "id": "ba28d29b-7d43-4369-82ae-9f36581760ba",
   "metadata": {},
   "source": [
    "3. Write a code to connect MongobB to Python, Also, create a database and a collectior MongobB.\n"
   ]
  },
  {
   "cell_type": "code",
   "execution_count": null,
   "id": "267a9f9a-d1f4-4506-b780-87c500c59b1c",
   "metadata": {},
   "outputs": [],
   "source": [
    "import pymongo\n",
    "\n",
    "# Set up the client\n",
    "client = pymongo.MongoClient(\"mongodb://localhost:27017/\")\n",
    "\n",
    "# Create a database\n",
    "mydb = client[\"mydatabase\"]\n",
    "\n",
    "# Create a collection\n",
    "mycol = mydb[\"customers\"]\n",
    "\n",
    "# Add some data to the collection\n",
    "mydict = { \"name\": \"John\", \"address\": \"Highway 37\" }\n",
    "x = mycol.insert_one(mydict)\n",
    "\n",
    "# Print the ID of the inserted document\n",
    "print(x.inserted_id)\n"
   ]
  },
  {
   "cell_type": "markdown",
   "id": "45af7cc4-ac1d-4a5d-b2e3-40ff4debe797",
   "metadata": {},
   "source": [
    "In this code, we first set up a connection to MongoDB using the pymongo.MongoClient class. We then create a new database named \"mydatabase\" and a new collection named \"customers\" using the mydb[\"mycollection\"] syntax. We add some data to the collection by creating a new document with a name and address field, and insert it using the mycol.insert_one() method. Finally, we print the ID of the inserted document.\n",
    "\n",
    "Note that in this example, we're connecting to MongoDB running on the local machine on port 27017. If your MongoDB instance is running on a different host or port, you'll need to adjust the connection string accordingly. Also, make sure that you have the PyMongo driver installed on your system before running this code."
   ]
  },
  {
   "cell_type": "markdown",
   "id": "8a863874-2812-4eb9-a850-b45cfa7c685b",
   "metadata": {},
   "source": [
    "Q4. Using the database and the collection created in question number 3, write a code to insert one record,\n",
    "and insert many records. Use the find() and find_one() methods to print the inserted record.\n"
   ]
  },
  {
   "cell_type": "code",
   "execution_count": null,
   "id": "fd621a3c-81a4-4934-8cda-65edaf4476d5",
   "metadata": {},
   "outputs": [],
   "source": [
    "import pymongo\n",
    "\n",
    "# Set up the client\n",
    "client = pymongo.MongoClient(\"mongodb://localhost:27017/\")\n",
    "\n",
    "# Create a database and a collection\n",
    "mydb = client[\"mydatabase\"]\n",
    "mycol = mydb[\"customers\"]\n",
    "\n",
    "# Insert one record\n",
    "mydict = { \"name\": \"John\", \"address\": \"Highway 37\" }\n",
    "x = mycol.insert_one(mydict)\n",
    "\n",
    "# Print the inserted record using find_one()\n",
    "print(mycol.find_one())\n",
    "\n",
    "# Insert multiple records\n",
    "mylist = [\n",
    "  { \"name\": \"Peter\", \"address\": \"Lowstreet 27\" },\n",
    "  { \"name\": \"Amy\", \"address\": \"Apple st 652\" },\n",
    "  { \"name\": \"Hannah\", \"address\": \"Mountain 21\" },\n",
    "  { \"name\": \"Michael\", \"address\": \"Valley 345\" },\n",
    "  { \"name\": \"Sandy\", \"address\": \"Ocean blvd 2\" }\n",
    "]\n",
    "x = mycol.insert_many(mylist)\n",
    "\n",
    "# Print the inserted records using find()\n",
    "for x in mycol.find():\n",
    "  print(x)\n"
   ]
  },
  {
   "cell_type": "markdown",
   "id": "b0597f80-97a9-47c2-88f6-1ed3b1c0c85a",
   "metadata": {},
   "source": [
    "In this code, we first create a new record with the name and address fields, and insert it into the \"customers\" collection using the insert_one() method. We then use the find_one() method to print the inserted record.\n",
    "\n",
    "Next, we create a list of records, and insert them into the \"customers\" collection using the insert_many() method. We then use the find() method to print all the inserted records.\n",
    "\n",
    "Note that the find() method returns a cursor object, which can be iterated over to retrieve each document. In this example, we use a for loop to print each document in the cursor."
   ]
  },
  {
   "cell_type": "markdown",
   "id": "fcd7dd06-be2c-4888-9427-61c6d010905b",
   "metadata": {},
   "source": [
    "Q5. Explain how you can use the find() method to query the MongoDB database. Write a simple code to\n",
    "lea ea a\n"
   ]
  },
  {
   "cell_type": "code",
   "execution_count": null,
   "id": "7fbdfbdd-163f-4773-a126-314b2f7a1195",
   "metadata": {},
   "outputs": [],
   "source": [
    "#The find() method is used to query a MongoDB database and retrieve documents from a collection that match a specified set of criteria. The find() method returns a cursor object, which can be used to iterate over the matching documents.\n",
    "\n",
    "Here's an example of how to use the find() method to query a MongoDB database:\n",
    "\n",
    "import pymongo\n",
    "\n",
    "# Set up the client\n",
    "client = pymongo.MongoClient(\"mongodb://localhost:27017/\")\n",
    "\n",
    "# Select the database and collection\n",
    "mydb = client[\"mydatabase\"]\n",
    "mycol = mydb[\"customers\"]\n",
    "\n",
    "# Find documents that match a specific criteria\n",
    "myquery = { \"address\": \"Apple st 652\" }\n",
    "mydoc = mycol.find(myquery)\n",
    "\n",
    "# Print the matching documents\n",
    "for x in mydoc:\n",
    "  print(x)\n",
    "\n"
   ]
  },
  {
   "cell_type": "markdown",
   "id": "be95b577-6840-4cb7-94e6-56f24d0ec0bb",
   "metadata": {},
   "source": [
    "In this code, we first set up a connection to MongoDB and select a database and collection. We then define a query criteria using a dictionary, where we specify that we want to find documents with the address field equal to \"Apple st 652\". We pass this query to the find() method, which returns a cursor object that we can use to iterate over the matching documents.\n",
    "\n",
    "Finally, we use a for loop to print each document in the cursor.\n",
    "\n",
    "Note that the find() method supports many different types of queries, including comparison operators, logical operators, and regular expressions. You can also use the find() method to retrieve all documents in a collection, by passing an empty query object ({}) as an argument."
   ]
  },
  {
   "cell_type": "markdown",
   "id": "dad98ab4-fbf9-42bc-8ac9-5a73f8cc3f44",
   "metadata": {},
   "source": [
    "6. Explain the sort() method. Give an example to demonstrate sorting in MongoDB.\n"
   ]
  },
  {
   "cell_type": "code",
   "execution_count": null,
   "id": "5c81f68c-37c8-4237-b388-0498ef4439cc",
   "metadata": {},
   "outputs": [],
   "source": [
    "#The sort() method in MongoDB is used to sort the documents in a collection based on a specified field or set of fields. The sort() method can sort documents in ascending or descending order, and can be used in combination with the find() method to retrieve documents in a specific order.\n",
    "\n",
    "The sort() method takes one or more key-value pairs as arguments, where the key is the field to sort by, and the value is either 1 (to sort in ascending order) or -1 (to sort in descending order). If you want to sort by multiple fields, you can pass a list of key-value pairs to the sort() method.\n",
    "\n",
    "Here's an example of how to use the sort() method to sort a collection in MongoDB:\n",
    "\n",
    "\n",
    "import pymongo\n",
    "\n",
    "# Set up the client\n",
    "client = pymongo.MongoClient(\"mongodb://localhost:27017/\")\n",
    "\n",
    "# Select the database and collection\n",
    "mydb = client[\"mydatabase\"]\n",
    "mycol = mydb[\"customers\"]\n",
    "\n",
    "# Sort the documents by the \"name\" field in ascending order\n",
    "mydoc = mycol.find().sort(\"name\")\n",
    "\n",
    "# Print the sorted documents\n",
    "for x in mydoc:\n",
    "  print(x)\n"
   ]
  },
  {
   "cell_type": "markdown",
   "id": "7eb57002-c41c-4dc7-9fe9-11fd3253ca32",
   "metadata": {},
   "source": [
    "In this code, we first set up a connection to MongoDB and select a database and collection. We then use the find() method to retrieve all the documents in the \"customers\" collection, and pass the sort() method to sort the documents by the \"name\" field in ascending order.\n",
    "\n",
    "Finally, we use a for loop to print each document in the cursor. The output will show the documents sorted by the \"name\" field in ascending order.\n",
    "\n",
    "Note that you can also sort by multiple fields by passing a list of key-value pairs to the sort() method. For example, to sort by the \"name\" field in ascending order and the \"address\" field in descending order, you would pass the following argument to the sort() method:"
   ]
  },
  {
   "cell_type": "code",
   "execution_count": null,
   "id": "387bc44a-7006-4a61-887e-22a794762655",
   "metadata": {},
   "outputs": [],
   "source": []
  }
 ],
 "metadata": {
  "kernelspec": {
   "display_name": "Python 3 (ipykernel)",
   "language": "python",
   "name": "python3"
  },
  "language_info": {
   "codemirror_mode": {
    "name": "ipython",
    "version": 3
   },
   "file_extension": ".py",
   "mimetype": "text/x-python",
   "name": "python",
   "nbconvert_exporter": "python",
   "pygments_lexer": "ipython3",
   "version": "3.10.6"
  }
 },
 "nbformat": 4,
 "nbformat_minor": 5
}
